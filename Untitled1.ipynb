{
 "cells": [
  {
   "cell_type": "code",
   "execution_count": 1,
   "metadata": {},
   "outputs": [
    {
     "name": "stdout",
     "output_type": "stream",
     "text": [
      "(569, 30)\n",
      "(569,)\n",
      "[[ 57  10]\n",
      " [  1 103]]\n",
      "0.935672514619883\n",
      "0.9903846153846154\n",
      "0.911504424778761\n"
     ]
    }
   ],
   "source": [
    "from sklearn.naive_bayes import GaussianNB\n",
    "from sklearn import datasets\n",
    "from sklearn import metrics\n",
    "from sklearn.model_selection import train_test_split\n",
    "from sklearn.metrics import classification_report\n",
    "cancer=datasets.load_breast_cancer()\n",
    "x=cancer.data\n",
    "y=cancer.target\n",
    "print(x.shape)\n",
    "print(y.shape)\n",
    "xtrain,xtest,ytrain,ytest=train_test_split(x,y,test_size=0.30)\n",
    "clf=GaussianNB()\n",
    "gnb=clf.fit(xtrain,ytrain)\n",
    "predicted=gnb.predict(xtest)\n",
    "print(metrics.confusion_matrix(ytest,predicted))\n",
    "print(metrics.accuracy_score(ytest,predicted))\n",
    "print(metrics.recall_score(ytest,predicted))\n",
    "print(metrics.precision_score(ytest,predicted))"
   ]
  },
  {
   "cell_type": "code",
   "execution_count": null,
   "metadata": {},
   "outputs": [],
   "source": []
  }
 ],
 "metadata": {
  "kernelspec": {
   "display_name": "Python 3",
   "language": "python",
   "name": "python3"
  },
  "language_info": {
   "codemirror_mode": {
    "name": "ipython",
    "version": 3
   },
   "file_extension": ".py",
   "mimetype": "text/x-python",
   "name": "python",
   "nbconvert_exporter": "python",
   "pygments_lexer": "ipython3",
   "version": "3.7.3"
  }
 },
 "nbformat": 4,
 "nbformat_minor": 2
}
