{
 "cells": [
  {
   "cell_type": "code",
   "execution_count": 6,
   "metadata": {},
   "outputs": [
    {
     "name": "stdout",
     "output_type": "stream",
     "text": [
      "\n",
      " The most specific hypothesis : ['0','0','0','0','0',' 0']\n",
      "\n",
      "\n",
      " The Maximally Specific Hypothesis for a given Training Examples :\n",
      "\n",
      "[['Sunny', 'Warm', '?', 'Strong', '?', '?']]\n"
     ]
    }
   ],
   "source": [
    "#program1\n",
    "import csv \n",
    "with open('book1.csv', 'r') as f:\n",
    "    reader = csv.reader(f)\n",
    "    your_list = list(reader)\n",
    "h = [['0', '0', '0', '0', '0', '0']]\n",
    "print (\"\\n The most specific hypothesis : ['0','0','0','0','0',' 0']\\n\")\n",
    "for i in your_list:\n",
    "    if i[-1] == \"Yes\":\n",
    "        j = 0\n",
    "        for x in i:  \n",
    "            if x != \"Yes\":\n",
    "                if x!=h[0][j] and h[0][j] == '0':\n",
    "                    h[0][j] = x\n",
    "                elif x!=h[0][j] and h[0][j]!='0':\n",
    "                    h[0][j]='?'\n",
    "                else:\n",
    "                    pass\n",
    "            j=j+1\n",
    "print(\"\\n The Maximally Specific Hypothesis for a given Training Examples :\\n\")\n",
    "print(h)\n"
   ]
  },
  {
   "cell_type": "code",
   "execution_count": 9,
   "metadata": {},
   "outputs": [
    {
     "name": "stdout",
     "output_type": "stream",
     "text": [
      "Final S:\n",
      "['Sunny' 'Warm' '?' 'Strong' '?' '?']\n",
      "Final G:\n",
      "[['Sunny', '?', '?', '?', '?', '?'], ['?', 'Warm', '?', '?', '?', '?']]\n"
     ]
    }
   ],
   "source": [
    "#program2\n",
    "import numpy as np\n",
    "import pandas as pd\n",
    "data = pd.DataFrame(data=pd.read_csv('book1.csv'))\n",
    "concepts = np.array(data.iloc[:,0:-1])\n",
    "target = np.array(data.iloc[:,-1])\n",
    "def learn(concepts, target):\n",
    "    specific_h = concepts[0].copy()\n",
    "    general_h = [[\"?\" for i in range(len(specific_h))] for i in range(len(specific_h))]\n",
    "    for i, h in enumerate(concepts):\n",
    "        if target[i] == \"Yes\":\n",
    "            for x in range(len(specific_h)):\n",
    "                if h[x] != specific_h[x]:\n",
    "                    specific_h[x] = '?'\n",
    "                    general_h[x][x] = '?'\n",
    "        if target[i] == \"No\":\n",
    "            for x in range(len(specific_h)):\n",
    "                if h[x] != specific_h[x]:\n",
    "                    general_h[x][x] = specific_h[x]\n",
    "                else:\n",
    "                    general_h[x][x] = '?'\n",
    "    indices = [i for i,val in enumerate(general_h) if val == ['?', '?', '?', '?', '?', '?']]\n",
    "    for i in indices:\n",
    "        general_h.remove(['?', '?', '?', '?', '?', '?'])\n",
    "    return specific_h, general_h\n",
    "s_final, g_final = learn(concepts, target)\n",
    "print(\"Final S:\", s_final, sep=\"\\n\")\n",
    "print(\"Final G:\", g_final, sep=\"\\n\")\n"
   ]
  },
  {
   "cell_type": "code",
   "execution_count": 14,
   "metadata": {},
   "outputs": [
    {
     "name": "stdout",
     "output_type": "stream",
     "text": [
      "Normalized Input: \n",
      "[[0.66666667 1.        ]\n",
      " [0.33333333 0.55555556]\n",
      " [1.         0.66666667]]\n",
      "Actual Output: \n",
      "[[0.92]\n",
      " [0.86]\n",
      " [0.89]]\n",
      "Predicted Output: \n",
      " [[0.72750543]\n",
      " [0.71478722]\n",
      " [0.72798509]]\n"
     ]
    }
   ],
   "source": [
    "#program4\n",
    "import numpy as np # numpy is commonly used to process number array\n",
    "X = np.array(([2, 9], [1, 5], [3, 6]), dtype=float) # Features ( Hrs Slept, Hrs Studied)\n",
    "y = np.array(([92], [86], [89]), dtype=float) # Labels(Marks obtained)\n",
    "X = X/np.amax(X,axis=0) # Normalize\n",
    "y = y/100\n",
    "def sigmoid(x):\n",
    "     return 1/(1 + np.exp(-x))\n",
    "def sigmoid_grad(x):\n",
    "     return x * (1 - x)\n",
    "# Variable initialization\n",
    "epoch=1000 \t\t\t#Setting training iterations\n",
    "eta =0.2 \t\t\t#Setting learning rate (eta)\n",
    "input_neurons = 2 \t\t#number of features in data set\n",
    "hidden_neurons = 3 \t\t#number of hidden layers neurons\n",
    "output_neurons = 1 \t\t#number of neurons at output layerlr=0.1 #Setting learning rate\n",
    "\n",
    "inputlayer_neurons = 2 \t#number of features in data set\n",
    "hiddenlayer_neurons = 3 \t#number of hidden layers neurons\n",
    "output_neurons = 1 \t\t#number of neurons at output layer\n",
    "# Weight and bias - Random initialization\n",
    "wh=np.random.uniform(size=(input_neurons,hidden_neurons))\t \t# 2x3\n",
    "bh=np.random.uniform(size=(1,hidden_neurons)) \t\t\t\t# 1x3\n",
    "wout=np.random.uniform(size=(hidden_neurons,output_neurons)) \t# 1x1\n",
    "bout=np.random.uniform(size=(1,output_neurons))\n",
    "for i in range(epoch):\n",
    "#Forward Propogation\n",
    "      h_ip=np.dot(X,wh) + bh\t\t # Dot product + bias\n",
    "      h_act = sigmoid(h_ip) \t\t# Activation function\n",
    "      o_ip=np.dot(h_act,wout) + bout\n",
    "      output = sigmoid(o_ip)\n",
    "#Backpropagation\n",
    "# Error at Output layer\n",
    "Eo = y-output \t\t\t\t# Error at o/p\n",
    "outgrad = sigmoid_grad(output)\n",
    "d_output = Eo* outgrad \t\t# Errj=Oj(1-Oj)(Tj-Oj)\n",
    "# Error at Hidden later\n",
    "Eh = d_output.dot(wout.T) \t\t# .T means transpose\n",
    "hiddengrad = sigmoid_grad(h_act) \t# How much hidden layer wts contributed to error\n",
    "d_hidden = Eh * hiddengrad\n",
    "wout += h_act.T.dot(d_output) *eta \t# Dotproduct of nextlayererror and currentlayerop\n",
    "wh += X.T.dot(d_hidden) *eta\n",
    "print(\"Normalized Input: \\n\" + str(X))\n",
    "print(\"Actual Output: \\n\" + str(y))\n",
    "print(\"Predicted Output: \\n\" ,output)\n"
   ]
  },
  {
   "cell_type": "code",
   "execution_count": 2,
   "metadata": {},
   "outputs": [
    {
     "name": "stdout",
     "output_type": "stream",
     "text": [
      "Accuracy is: 1.0\n"
     ]
    }
   ],
   "source": [
    "import pandas as pd\n",
    "from sklearn.naive_bayes import GaussianNB\n",
    "data = pd.read_csv('iris.csv')\n",
    "\n",
    "X = data.iloc[:,:-1]\n",
    "y = data.iloc[:,-1]\n",
    "\n",
    "from sklearn.model_selection import train_test_split\n",
    "X_train, X_test, y_train, y_test = train_test_split(X,y, test_size=0.20)\n",
    "\n",
    "classifier = GaussianNB()\n",
    "classifier.fit(X_train,y_train)\n",
    "\n",
    "from sklearn.metrics import accuracy_score\n",
    "print(\"Accuracy is:\",accuracy_score(classifier.predict(X_test),y_test))"
   ]
  },
  {
   "cell_type": "code",
   "execution_count": 4,
   "metadata": {},
   "outputs": [
    {
     "data": {
      "image/png": "[encoded data removed]",
      "text/plain": [
       "<Figure size 1008x504 with 2 Axes>"
      ]
     },
     "metadata": {
      "needs_background": "light"
     },
     "output_type": "display_data"
    }
   ],
   "source": [
    "import matplotlib.pyplot as plt \n",
    "import statsmodels.api as sm \n",
    "import matplotlib.pyplot as plt \n",
    "x=list(range(3,33))+[3.2,6.2]\n",
    "y=[1,2,1,2,1,1,3,4,5,4,5,6,5,6,7,8,9,10,11,11,12,11,11,10,12,11,11,10,9,8,2,13]\n",
    "lowess=sm.nonparametric.lowess(y,x,frac=0.3) \n",
    "lowess_x=list(zip(*lowess))[0] \n",
    "lowess_y=list(zip(*lowess))[1]\n",
    "plt.figure(figsize=(14,7)) \n",
    "plt.subplot(1,2,1) \n",
    "plt.title('Original') \n",
    "plt.plot(x,y,'o')\n",
    "plt.subplot(1,2,2) \n",
    "plt.title('Lowess')\n",
    "plt.plot(lowess_x,lowess_y,'-')\n",
    "plt.show()\n"
   ]
  },
  {
   "cell_type": "code",
   "execution_count": 5,
   "metadata": {},
   "outputs": [
    {
     "name": "stdout",
     "output_type": "stream",
     "text": [
      "Confusion matrix is as follows\n",
      "[[16  0  0]\n",
      " [ 0 16  0]\n",
      " [ 0  1 12]]\n",
      "Accuracy matrix\n",
      "              precision    recall  f1-score   support\n",
      "\n",
      "           0       1.00      1.00      1.00        16\n",
      "           1       0.94      1.00      0.97        16\n",
      "           2       1.00      0.92      0.96        13\n",
      "\n",
      "    accuracy                           0.98        45\n",
      "   macro avg       0.98      0.97      0.98        45\n",
      "weighted avg       0.98      0.98      0.98        45\n",
      "\n"
     ]
    }
   ],
   "source": [
    "from sklearn.model_selection import train_test_split\n",
    "from sklearn.neighbors import KNeighborsClassifier\n",
    "from sklearn.metrics import classification_report,confusion_matrix\n",
    "from sklearn import datasets\n",
    "iris=datasets.load_iris()\n",
    "iris_data=iris.data\n",
    "iris_labels=iris.target\n",
    "x_train,x_test,y_train,y_test=train_test_split(iris_data,iris_labels,test_size=0.30)\n",
    "classifier=KNeighborsClassifier(n_neighbors=5)\n",
    "classifier.fit(x_train,y_train)\n",
    "y_pred=classifier.predict(x_test)\n",
    "print(\"Confusion matrix is as follows\")\n",
    "print(confusion_matrix(y_test,y_pred))\n",
    "print(\"Accuracy matrix\")\n",
    "print(classification_report(y_test,y_pred))\n"
   ]
  },
  {
   "cell_type": "code",
   "execution_count": 6,
   "metadata": {},
   "outputs": [
    {
     "data": {
      "text/plain": [
       "Text(0.5, 1.0, 'GMM Classification')"
      ]
     },
     "execution_count": 6,
     "metadata": {},
     "output_type": "execute_result"
    },
    {
     "data": {
      "image/png": "[encoded data removed]",
      "text/plain": [
       "<Figure size 1008x504 with 3 Axes>"
      ]
     },
     "metadata": {
      "needs_background": "light"
     },
     "output_type": "display_data"
    }
   ],
   "source": [
    "from sklearn.cluster import KMeans \n",
    "from sklearn import preprocessing\n",
    "from sklearn.mixture import GaussianMixture \n",
    "from sklearn.datasets import load_iris\n",
    "import sklearn.metrics as sm \n",
    "import pandas as pd\n",
    "import numpy as np\n",
    "import matplotlib.pyplot as plt\n",
    "\n",
    "dataset=load_iris() \n",
    "X=pd.DataFrame(dataset.data)\n",
    "X.columns=['Sepal_Length','Sepal_Width','Petal_Length','Petal_Width'] \n",
    "y=pd.DataFrame(dataset.target)\n",
    "y.columns=['Targets'] \n",
    "plt.figure(figsize=(14,7)) \n",
    "colormap=np.array(['red','lime','black'])\n",
    "#REAL PLOT\n",
    "plt.subplot(1,3,1) \n",
    "plt.scatter(X.Petal_Length,X.Petal_Width,c=colormap[y.Targets],s=40) \n",
    "plt.title('Real')\n",
    "#KMeans -PLOT \n",
    "plt.subplot(1,3,2) \n",
    "model=KMeans(n_clusters=3) \n",
    "model.fit(X)\n",
    "predY=np.choose(model.labels_,[0,1,2]).astype(np.int64) \n",
    "plt.scatter(X.Petal_Length,X.Petal_Width,c=colormap[predY],s=40) \n",
    "plt.title('KMeans')\n",
    "#GMM PLOT\n",
    "scaler=preprocessing.StandardScaler() \n",
    "scaler.fit(X)\n",
    "xsa=scaler.transform(X) \n",
    "xs=pd.DataFrame(xsa,columns=X.columns) \n",
    "gmm=GaussianMixture(n_components=3) \n",
    "gmm.fit(xs) \n",
    "y_cluster_gmm=gmm.predict(xs) \n",
    "plt.subplot(1,3,3)\n",
    "plt.scatter(X.Petal_Length,X.Petal_Width,c=colormap[y_cluster_gmm],s=40)\n",
    "plt.title('GMM Classification') \n"
   ]
  },
  {
   "cell_type": "code",
   "execution_count": 11,
   "metadata": {},
   "outputs": [
    {
     "ename": "ModuleNotFoundError",
     "evalue": "No module named 'pgmpy'",
     "output_type": "error",
     "traceback": [
      "\u001b[1;31m---------------------------------------------------------------------------\u001b[0m",
      "\u001b[1;31mModuleNotFoundError\u001b[0m                       Traceback (most recent call last)",
      "\u001b[1;32m<ipython-input-11-a00e677d8390>\u001b[0m in \u001b[0;36m<module>\u001b[1;34m\u001b[0m\n\u001b[0;32m      2\u001b[0m \u001b[1;32mimport\u001b[0m \u001b[0mpandas\u001b[0m \u001b[1;32mas\u001b[0m \u001b[0mpd\u001b[0m\u001b[1;33m\u001b[0m\u001b[1;33m\u001b[0m\u001b[0m\n\u001b[0;32m      3\u001b[0m \u001b[1;32mimport\u001b[0m \u001b[0mcsv\u001b[0m\u001b[1;33m\u001b[0m\u001b[1;33m\u001b[0m\u001b[0m\n\u001b[1;32m----> 4\u001b[1;33m \u001b[1;32mfrom\u001b[0m \u001b[0mpgmpy\u001b[0m\u001b[1;33m.\u001b[0m\u001b[0mestimators\u001b[0m \u001b[1;32mimport\u001b[0m \u001b[0mMaximumLikelihoodEstimator\u001b[0m\u001b[1;33m\u001b[0m\u001b[1;33m\u001b[0m\u001b[0m\n\u001b[0m\u001b[0;32m      5\u001b[0m \u001b[1;32mfrom\u001b[0m \u001b[0mpgmpy\u001b[0m\u001b[1;33m.\u001b[0m\u001b[0mmodels\u001b[0m \u001b[1;32mimport\u001b[0m \u001b[0mBayesianModel\u001b[0m\u001b[1;33m\u001b[0m\u001b[1;33m\u001b[0m\u001b[0m\n\u001b[0;32m      6\u001b[0m \u001b[1;32mfrom\u001b[0m \u001b[0mpgmpy\u001b[0m\u001b[1;33m.\u001b[0m\u001b[0minference\u001b[0m \u001b[1;32mimport\u001b[0m \u001b[0mVariableElimination\u001b[0m\u001b[1;33m\u001b[0m\u001b[1;33m\u001b[0m\u001b[0m\n",
      "\u001b[1;31mModuleNotFoundError\u001b[0m: No module named 'pgmpy'"
     ]
    }
   ],
   "source": [
    "import numpy as np\n",
    "import pandas as pd\n",
    "import csv\n",
    "from pgmpy.estimators import MaximumLikelihoodEstimator\n",
    "from pgmpy.models import BayesianModel\n",
    "from pgmpy.inference import VariableElimination\n",
    "\n",
    " #Read the attributes\n",
    "lines = list(csv.reader(open('data7_names.csv', 'r')));\n",
    "attributes = lines[0]\n",
    " #Read Cleveland Heart dicease data\n",
    "heartDisease = pd.read_csv('data7_heart.csv', names = attributes)\n",
    "heartDisease = heartDisease.replace('?', np.nan)\n",
    "# Display the data\n",
    " #print('Few examples from the dataset are given below')\n",
    " #print(heartDisease.head())\n",
    " #print('\\nAttributes and datatypes')\n",
    " #print(heartDisease.dtypes)\n",
    "\n",
    " # Model Baysian Network\n",
    "model = BayesianModel([('age', 'trestbps'), ('age', 'fbs'), ('sex', 'trestbps'), ('sex', 'trestbps'),\n",
    " ('exang', 'trestbps'),('trestbps','heartdisease'),('fbs','heartdisease'),\n",
    " ('heartdisease','restecg'),('heartdisease','thalach'),('heartdisease','chol')])\n",
    "\n",
    " # Learning CPDs using Maximum Likelihood Estimators\n",
    "print('\\nLearning CPDs using Maximum Likelihood Estimators...');\n",
    "model.fit(heartDisease, estimator=MaximumLikelihoodEstimator)\n",
    "\n",
    " # Inferencing with Bayesian Network\n",
    "print('\\nInferencing with Bayesian Network:')\n",
    "HeartDisease_infer = VariableElimination(model)\n",
    "\n",
    " # Computing the probability of bronc given smoke.\n",
    "print('\\n1.Probability of HeartDisease given Age=28')\n",
    "q = HeartDisease_infer.query(variables=['heartdisease'], evidence={'age': 28})\n",
    "print(q['heartdisease'])\n",
    "\n",
    "print('\\n2. Probability of HeartDisease given chol (Cholestoral) =100')\n",
    "q = HeartDisease_infer.query(variables=['heartdisease'], evidence={'chol': 100})\n",
    "print(q['heartdisease'])\n"
   ]
  },
  {
   "cell_type": "code",
   "execution_count": 9,
   "metadata": {},
   "outputs": [
    {
     "name": "stdout",
     "output_type": "stream",
     "text": [
      "Collecting package metadata (current_repodata.json): ...working... done\n",
      "Solving environment: ...working... failed with initial frozen solve. Retrying with flexible solve.\n",
      "Collecting package metadata (repodata.json): ...working... done\n",
      "Solving environment: ...working... failed with initial frozen solve. Retrying with flexible solve.\n",
      "\n",
      "Note: you may need to restart the kernel to use updated packages.\n"
     ]
    },
    {
     "name": "stderr",
     "output_type": "stream",
     "text": [
      "\n",
      "PackagesNotFoundError: The following packages are not available from current channels:\n",
      "\n",
      "  - pgmpy\n",
      "\n",
      "Current channels:\n",
      "\n",
      "  - https://repo.anaconda.com/pkgs/main/win-64\n",
      "  - https://repo.anaconda.com/pkgs/main/noarch\n",
      "  - https://repo.anaconda.com/pkgs/r/win-64\n",
      "  - https://repo.anaconda.com/pkgs/r/noarch\n",
      "  - https://repo.anaconda.com/pkgs/msys2/win-64\n",
      "  - https://repo.anaconda.com/pkgs/msys2/noarch\n",
      "\n",
      "To search for alternate channels that may provide the conda package you're\n",
      "looking for, navigate to\n",
      "\n",
      "    https://anaconda.org\n",
      "\n",
      "and use the search bar at the top of the page.\n",
      "\n",
      "\n"
     ]
    }
   ],
   "source": [
    "conda install pgmpy"
   ]
  },
  {
   "cell_type": "code",
   "execution_count": null,
   "metadata": {},
   "outputs": [],
   "source": []
  }
 ],
 "metadata": {
  "kernelspec": {
   "display_name": "Python 3",
   "language": "python",
   "name": "python3"
  },
  "language_info": {
   "codemirror_mode": {
    "name": "ipython",
    "version": 3
   },
   "file_extension": ".py",
   "mimetype": "text/x-python",
   "name": "python",
   "nbconvert_exporter": "python",
   "pygments_lexer": "ipython3",
   "version": "3.7.4"
  }
 },
 "nbformat": 4,
 "nbformat_minor": 2
}
